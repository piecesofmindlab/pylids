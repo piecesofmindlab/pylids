{
 "cells": [
  {
   "cell_type": "code",
   "execution_count": 1,
   "id": "ea568b6c",
   "metadata": {},
   "outputs": [
    {
     "name": "stdout",
     "output_type": "stream",
     "text": [
      "DLC loaded in light mode; you cannot use any GUI (labeling, relabeling and standalone GUI)\n"
     ]
    }
   ],
   "source": [
    "import pylids"
   ]
  },
  {
   "cell_type": "code",
   "execution_count": 2,
   "id": "9588c02f",
   "metadata": {},
   "outputs": [
    {
     "name": "stdout",
     "output_type": "stream",
     "text": [
      "Available models\n",
      "\n",
      "['eyelids_v1', 'eyelids_pupils_v1', 'eyelids_pupils_v2']\n"
     ]
    }
   ],
   "source": [
    "# Check for available model weights\n",
    "pylids.available_models()"
   ]
  },
  {
   "cell_type": "markdown",
   "id": "2111e08e",
   "metadata": {},
   "source": [
    "- The best eyelids only model is eyelids_v1\n",
    "- For pupils and gaze use eyelids_pupils_v2"
   ]
  },
  {
   "cell_type": "code",
   "execution_count": 3,
   "id": "e923368a",
   "metadata": {},
   "outputs": [],
   "source": [
    "#This is the main function you want to use to estimate pupil and eyelids\n",
    "#checkout the docstring for how to use\n",
    "pylids.analyze_video?"
   ]
  },
  {
   "cell_type": "code",
   "execution_count": 4,
   "id": "7cc9cfbe",
   "metadata": {},
   "outputs": [
    {
     "name": "stdout",
     "output_type": "stream",
     "text": [
      "\u001b[0m\u001b[01;35meye0.mp4\u001b[0m  \u001b[01;35meye1.mp4\u001b[0m  \u001b[01;35meye_annotation.mp4\u001b[0m  pylids_demo.ipynb\r\n"
     ]
    }
   ],
   "source": [
    "#running these on included demo eye videos\n",
    "ls"
   ]
  },
  {
   "cell_type": "code",
   "execution_count": null,
   "id": "9fe2ccd9",
   "metadata": {},
   "outputs": [],
   "source": [
    "#Demo run\n",
    "pylids_out = pylids.analyze_video(eye_vid='eye1.mp4', model_name= 'eyelids_pupils_v2', save_vid=True)"
   ]
  }
 ],
 "metadata": {
  "kernelspec": {
   "display_name": "DLC-GPU-LITE",
   "language": "python",
   "name": "dlc-gpu-lite"
  },
  "language_info": {
   "codemirror_mode": {
    "name": "ipython",
    "version": 3
   },
   "file_extension": ".py",
   "mimetype": "text/x-python",
   "name": "python",
   "nbconvert_exporter": "python",
   "pygments_lexer": "ipython3",
   "version": "3.7.10"
  }
 },
 "nbformat": 4,
 "nbformat_minor": 5
}
