{
 "cells": [
  {
   "cell_type": "markdown",
   "id": "60585a7b",
   "metadata": {},
   "source": [
    "# Train a new DNN using labeled frames "
   ]
  },
  {
   "cell_type": "code",
   "execution_count": 1,
   "id": "551135f8",
   "metadata": {
    "scrolled": true
   },
   "outputs": [
    {
     "name": "stdout",
     "output_type": "stream",
     "text": [
      "DLC loaded in light mode; you cannot use any GUI (labeling, relabeling and standalone GUI)\n"
     ]
    }
   ],
   "source": [
    "import deeplabcut\n",
    "import pylids\n",
    "import os"
   ]
  },
  {
   "cell_type": "code",
   "execution_count": null,
   "id": "68509955",
   "metadata": {},
   "outputs": [],
   "source": [
    "path_config_file = 'add/path/to/dlc/config.yaml'"
   ]
  },
  {
   "cell_type": "code",
   "execution_count": null,
   "id": "8a53b2c8",
   "metadata": {
    "scrolled": true
   },
   "outputs": [],
   "source": [
    "#create a training dataset using the existing config files\n",
    "deeplabcut.create_training_dataset(path_config_file)"
   ]
  },
  {
   "cell_type": "code",
   "execution_count": null,
   "id": "ce7e011b",
   "metadata": {},
   "outputs": [],
   "source": [
    "cfg=deeplabcut.auxiliaryfunctions.read_plainconfig(path_config_file)\n",
    "trainposeconfigfile, testposeconfigfile, snapshotfolder=deeplabcut.return_train_network_path(path_config_file, shuffle=1)\n",
    "cfg_dlc=deeplabcut.auxiliaryfunctions.read_plainconfig(trainposeconfigfile)\n",
    "\n",
    "#pick that as large as your GPU can handle it\n",
    "cfg_dlc['batch_size']=8\n",
    "\n",
    "#initilize weights with the weights from the pretrained model\n",
    "cfg_dlc['init_weights'] = 'path/to/weights/dlc-models/iteration-0/project_name/train/snapshot-120000'\n",
    "\n",
    "#set all augmentations to be false \n",
    "cfg_dlc['elastic_transform']=False\n",
    "cfg_dlc['rotation']=0\n",
    "cfg_dlc['covering']=False\n",
    "cfg_dlc['motion_blur'] = False\n",
    "cfg_dlc['mirror'] = False\n",
    "\n",
    "#use adam optimizer instead of sgd\n",
    "cfg_dlc['optimizer'] =\"adam\"\n",
    "\n",
    "#Change the learning rate\n",
    "cfg_dlc['multi_step']=[[0.0001, 40000], [5e-05, 60000], [1e-5, 120000]]\n",
    "\n",
    "deeplabcut.auxiliaryfunctions.write_plainconfig(trainposeconfigfile,cfg_dlc)"
   ]
  },
  {
   "cell_type": "code",
   "execution_count": null,
   "id": "d6e73d91",
   "metadata": {
    "scrolled": true
   },
   "outputs": [],
   "source": [
    "deeplabcut.train_network(path_config_file, shuffle=1, displayiters=100, saveiters=500, max_snapshots_to_keep=6)"
   ]
  },
  {
   "cell_type": "code",
   "execution_count": null,
   "id": "e30b8dc0",
   "metadata": {
    "scrolled": true
   },
   "outputs": [],
   "source": [
    "#Use dlc to analyze the videos (can skip this step if you want to use pylids to analyze the videos)\n",
    "video_list = ['path/to/eye/video1', 'path/to/eye/video1']\n",
    "deeplabcut.analyze_videos(path_config_file, video_list, videotype='.mp4', destfolder=os.path.join(result_folder,path_config_file.split('/')[-2]))"
   ]
  },
  {
   "cell_type": "code",
   "execution_count": null,
   "id": "811cf7a2",
   "metadata": {},
   "outputs": [],
   "source": [
    "#Use pylids to analyze the videos\n",
    "save_folder = 'path/to/save/folder'\n",
    "pylids.analyze_videos(model_name = path_config_file,\n",
    "                         video_list,\n",
    "                          videotype='.mp4',\n",
    "                           destfolder=os.path.join(save_folder))"
   ]
  }
 ],
 "metadata": {
  "kernelspec": {
   "display_name": "DLC-GPU-LITE",
   "language": "python",
   "name": "dlc-gpu-lite"
  },
  "language_info": {
   "codemirror_mode": {
    "name": "ipython",
    "version": 3
   },
   "file_extension": ".py",
   "mimetype": "text/x-python",
   "name": "python",
   "nbconvert_exporter": "python",
   "pygments_lexer": "ipython3",
   "version": "3.7.10"
  }
 },
 "nbformat": 4,
 "nbformat_minor": 5
}
