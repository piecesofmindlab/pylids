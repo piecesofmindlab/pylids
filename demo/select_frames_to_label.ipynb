{
 "cells": [
  {
   "cell_type": "markdown",
   "id": "b536bd5f",
   "metadata": {},
   "source": [
    "# Selecting frames to label \n",
    "\n",
    "This notebook demonstrates how to use guided selection to efficiently select new frames to label from a given dataset."
   ]
  },
  {
   "cell_type": "code",
   "execution_count": null,
   "id": "b5f50b0b",
   "metadata": {},
   "outputs": [],
   "source": [
    "import os\n",
    "from pylids import select_frames\n",
    "from pylids import replicate\n",
    "import deeplabcut\n",
    "import shutil"
   ]
  },
  {
   "cell_type": "markdown",
   "id": "dca7cc11",
   "metadata": {},
   "source": [
    "### Defining the paths to our input data\n",
    "\n",
    "The guided selection function `select_frames.select_frames_to_label` takes as input a list of paths to eye images (like a list of paths to .pngs) from which you want to select new frames to label. This must be passed to the `tst_fls` argument.\n",
    "\n",
    "If you are finetuning a baseline model you must also pass the training data part of your baseline model to `trn_fls`. This is an optional input. If you do not have a baseline model do not pass this argument."
   ]
  },
  {
   "cell_type": "code",
   "execution_count": null,
   "id": "cfae9c16",
   "metadata": {},
   "outputs": [],
   "source": [
    "train_data = [] # List of paths to images in the baseline training dataset (optional)\n",
    "test_data = [] # list of paths to images from which to select potential training images \n",
    "frames_to_select = 10 # labeling budget, increase this based on the variability of your dataset"
   ]
  },
  {
   "cell_type": "markdown",
   "id": "69b039d1",
   "metadata": {},
   "source": [
    "### Run guided sampling to select the frames to label\n",
    "\n",
    "The function `select_frames.select_frames_to_label` outputs a list path to frames selected for labeling."
   ]
  },
  {
   "cell_type": "code",
   "execution_count": null,
   "id": "9d3da2a6",
   "metadata": {
    "scrolled": true
   },
   "outputs": [],
   "source": [
    "#If not using a basline model\n",
    "selected_frames = select_frames.select_frames_to_label(tst_fls=test_data, n_frames=frames_to_select)\n",
    "\n",
    "#If using a basline model\n",
    "selected_frames = select_frames.select_frames_to_label(trn_fls = train_data, tst_fls=test_data, n_frames=frames_to_select)"
   ]
  },
  {
   "cell_type": "markdown",
   "id": "8e13f53b",
   "metadata": {},
   "source": [
    "### Copy selected frames into your DLC project folder\n",
    "\n",
    "The pylids package works on top of the [DeepLabCut](https://github.com/DeepLabCut/DeepLabCut) framework. If you are not familiar with it please check this [link](https://deeplabcut.github.io/DeepLabCut/README.html). The next step requires you to provide a DLC project folder. If you do not have one simply create a new project in DLC and then copy the provided config.yaml file in ./config_files/config.yaml into the project folder and change the project path specified within the config.yaml file.Do this before running the next cell.\n"
   ]
  },
  {
   "cell_type": "code",
   "execution_count": null,
   "id": "f9e8a129",
   "metadata": {},
   "outputs": [],
   "source": [
    "#specify the path to your DLC project folder\n",
    "dlc_project_folder = 'add/path/to/dlc_project/labeled-data/video_name'\n",
    "#be sure to add video name as a new video into your DLC config file\n",
    "for frame in select_frames:\n",
    "    shutil.copy(frame, os.path.join(dlc_project_folder,frame.split('/')[-1]))"
   ]
  },
  {
   "cell_type": "markdown",
   "id": "cd462313",
   "metadata": {},
   "source": [
    "### Label the selected frames using the DLC GUI\n",
    "\n",
    "To follow the same labeling protocol as the one used in the paper, please take a look at this [video](https://drive.google.com/file/d/1m9-OJcP-Bmp5F1BIliRroKtrGvtvQBy-/view?usp=sharing)"
   ]
  },
  {
   "cell_type": "code",
   "execution_count": null,
   "id": "6c26f938",
   "metadata": {},
   "outputs": [],
   "source": [
    "#point this to your DLC project config file\n",
    "config_path = 'add/path/to/dlc_project/config.yaml'\n",
    "\n",
    "#This will open a DLC GUI to label frames\n",
    "\n",
    "# Leave a link to video on labeling frames\n",
    "deeplabcut.label_frames(config_path)"
   ]
  },
  {
   "cell_type": "markdown",
   "id": "870d0503",
   "metadata": {},
   "source": [
    "### Visualize the labeled data"
   ]
  },
  {
   "cell_type": "code",
   "execution_count": null,
   "id": "980db5d5",
   "metadata": {},
   "outputs": [],
   "source": [
    "#Helper function to visualize frames after labeling to check everything looks good\n",
    "replicate.viz_selected_frames(save_folder = dlc_project_folder)"
   ]
  },
  {
   "cell_type": "markdown",
   "id": "f6c87356",
   "metadata": {},
   "source": [
    "You are done with frame selection. Next use the train_dlc_network.ipynb notebook to train your network."
   ]
  }
 ],
 "metadata": {
  "kernelspec": {
   "display_name": "DLC-GPU-LITE",
   "language": "python",
   "name": "dlc-gpu-lite"
  },
  "language_info": {
   "codemirror_mode": {
    "name": "ipython",
    "version": 3
   },
   "file_extension": ".py",
   "mimetype": "text/x-python",
   "name": "python",
   "nbconvert_exporter": "python",
   "pygments_lexer": "ipython3",
   "version": "3.7.10"
  }
 },
 "nbformat": 4,
 "nbformat_minor": 5
}
