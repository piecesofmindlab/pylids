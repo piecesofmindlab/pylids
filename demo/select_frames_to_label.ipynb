{
 "cells": [
  {
   "cell_type": "markdown",
   "id": "b536bd5f",
   "metadata": {},
   "source": [
    "# Selecting frames to label "
   ]
  },
  {
   "cell_type": "code",
   "execution_count": null,
   "id": "b5f50b0b",
   "metadata": {},
   "outputs": [],
   "source": [
    "import os\n",
    "from pylids import select_frames\n",
    "from pylids import replicate\n",
    "import deeplabcut\n",
    "import shutil"
   ]
  },
  {
   "cell_type": "code",
   "execution_count": null,
   "id": "cfae9c16",
   "metadata": {},
   "outputs": [],
   "source": [
    "train_data = [] # List of images part of baseline training dataset\n",
    "test_data = [] # list of images from where we will select potential training images \n",
    "frames_to_select = 10 # labeling budget, increase this based on the variability of your dataset\n",
    "\n",
    "#You can also use this function to select an initial set of frames to label\n",
    "#by only providing test_data to the function below"
   ]
  },
  {
   "cell_type": "code",
   "execution_count": null,
   "id": "9d3da2a6",
   "metadata": {
    "scrolled": true
   },
   "outputs": [],
   "source": [
    "#Run guided sampling to select the frames to label\n",
    "selected_frames = select_frames.select_frames_to_label(trn_fls = train_data, tst_fls=tst_data, n_frames=frames_to_select)"
   ]
  },
  {
   "cell_type": "code",
   "execution_count": null,
   "id": "f9e8a129",
   "metadata": {},
   "outputs": [],
   "source": [
    "#copy selected frames into your DLC project folder\n",
    "dlc_project_folder = 'add/path/to/dlc_project/labeled-data/video_name'\n",
    "#be sure to add video name as a new video into your DLC config file\n",
    "for frame in select_frames:\n",
    "    shutil.copy(frame, os.path.join(dlc_project_folder,frame.split('/')[-1]))"
   ]
  },
  {
   "cell_type": "code",
   "execution_count": null,
   "id": "6c26f938",
   "metadata": {},
   "outputs": [],
   "source": [
    "#Use this to label frames\n",
    "deeplabcut.label_frames(config_path)"
   ]
  },
  {
   "cell_type": "code",
   "execution_count": null,
   "id": "980db5d5",
   "metadata": {},
   "outputs": [],
   "source": [
    "#Visualize frames after labeling to check everything looks good\n",
    "replicate.viz_selected_frames(save_folder = dlc_project_folder)"
   ]
  }
 ],
 "metadata": {
  "kernelspec": {
   "display_name": "DLC-GPU-LITE",
   "language": "python",
   "name": "dlc-gpu-lite"
  },
  "language_info": {
   "codemirror_mode": {
    "name": "ipython",
    "version": 3
   },
   "file_extension": ".py",
   "mimetype": "text/x-python",
   "name": "python",
   "nbconvert_exporter": "python",
   "pygments_lexer": "ipython3",
   "version": "3.7.10"
  }
 },
 "nbformat": 4,
 "nbformat_minor": 5
}
